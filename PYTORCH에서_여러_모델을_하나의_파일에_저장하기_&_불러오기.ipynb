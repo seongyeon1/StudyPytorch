{
  "nbformat": 4,
  "nbformat_minor": 0,
  "metadata": {
    "colab": {
      "provenance": [],
      "authorship_tag": "ABX9TyN60i8wU5kvhIChxyXkZNat",
      "include_colab_link": true
    },
    "kernelspec": {
      "name": "python3",
      "display_name": "Python 3"
    },
    "language_info": {
      "name": "python"
    }
  },
  "cells": [
    {
      "cell_type": "markdown",
      "metadata": {
        "id": "view-in-github",
        "colab_type": "text"
      },
      "source": [
        "<a href=\"https://colab.research.google.com/github/seongyeon1/StudyPytorch/blob/main/PYTORCH%EC%97%90%EC%84%9C_%EC%97%AC%EB%9F%AC_%EB%AA%A8%EB%8D%B8%EC%9D%84_%ED%95%98%EB%82%98%EC%9D%98_%ED%8C%8C%EC%9D%BC%EC%97%90_%EC%A0%80%EC%9E%A5%ED%95%98%EA%B8%B0_%26_%EB%B6%88%EB%9F%AC%EC%98%A4%EA%B8%B0.ipynb\" target=\"_parent\"><img src=\"https://colab.research.google.com/assets/colab-badge.svg\" alt=\"Open In Colab\"/></a>"
      ]
    },
    {
      "cell_type": "markdown",
      "source": [
        "## 개요\n",
        "GAN이나 시퀀스-투-시퀀스(sequence-to-sequence model), 앙상블 모델(ensemble of models)과 같이 여러 torch.nn.Modules 로 구성된 모델을 저장할 때는 각 모델의 state_dict와 해당 옵티마이저(optimizer)의 사전을 저장해야 합니다. 또한, 학습 학습을 재개하는데 필요한 다른 항목들을 사전에 추가할 수 있습니다. 모델들을 불러올 때에는, 먼저 모델들과 옵티마이저를 초기화하고, torch.load() 를 사용하여 사전을 불러옵니다. 이후 원하는대로 저장한 항목들을 사전에 조회하여 접근할 수 있습니다. 이 레시피에서는 PyTorch를 사용하여 여러 모델들을 하나의 파일에 어떻게 저장하고 불러오는지 살펴보겠습니다."
      ],
      "metadata": {
        "id": "qwRhklSSYYbQ"
      }
    },
    {
      "cell_type": "markdown",
      "source": [
        "## 단계(Steps)\n",
        "데이터 불러올 때 필요한 라이브러리들 불러오기\n",
        "\n",
        "신경망을 구성하고 초기화하기\n",
        "\n",
        "옵티마이저 초기화하기\n",
        "\n",
        "여러 모델들 저장하기\n",
        "\n",
        "여러 모델들 불러오기"
      ],
      "metadata": {
        "id": "V9yTYEkxYb1v"
      }
    },
    {
      "cell_type": "code",
      "execution_count": 1,
      "metadata": {
        "id": "P-G8khFCXH4R"
      },
      "outputs": [],
      "source": [
        "import torch\n",
        "import torch.nn as nn\n",
        "import torch.optim as optim"
      ]
    },
    {
      "cell_type": "code",
      "source": [
        "class Net(nn.Module):\n",
        "    def __init__(self):\n",
        "        super(Net, self).__init__()\n",
        "        self.conv1 = nn.Conv2d(3, 6, 5)\n",
        "        self.pool = nn.MaxPool2d(2, 2)\n",
        "        self.conv2 = nn.Conv2d(6, 16, 5)\n",
        "        self.fc1 = nn.Linear(16 * 5 * 5, 120)\n",
        "        self.fc2 = nn.Linear(120, 84)\n",
        "        self.fc3 = nn.Linear(84, 10)\n",
        "\n",
        "    def forward(self, x):\n",
        "        x = self.pool(F.relu(self.conv1(x)))\n",
        "        x = self.pool(F.relu(self.conv2(x)))\n",
        "        x = x.view(-1, 16 * 5 * 5)\n",
        "        x = F.relu(self.fc1(x))\n",
        "        x = F.relu(self.fc2(x))\n",
        "        x = self.fc3(x)\n",
        "        return x\n",
        "\n",
        "netA = Net()\n",
        "netB = Net()"
      ],
      "metadata": {
        "id": "tpKvLV5SYxN7"
      },
      "execution_count": 2,
      "outputs": []
    },
    {
      "cell_type": "code",
      "source": [
        "optimizerA = optim.SGD(netA.parameters(), lr=0.001, momentum=0.9)\n",
        "optimizerB = optim.SGD(netB.parameters(), lr=0.001, momentum=0.9)"
      ],
      "metadata": {
        "id": "jOuLOQWUYxH6"
      },
      "execution_count": 3,
      "outputs": []
    },
    {
      "cell_type": "code",
      "source": [
        "# 저장할 경로 지정\n",
        "PATH = \"model.pt\"\n",
        "\n",
        "torch.save({\n",
        "            'modelA_state_dict': netA.state_dict(),\n",
        "            'modelB_state_dict': netB.state_dict(),\n",
        "            'optimizerA_state_dict': optimizerA.state_dict(),\n",
        "            'optimizerB_state_dict': optimizerB.state_dict(),\n",
        "            }, PATH)"
      ],
      "metadata": {
        "id": "IYlbcUKjYw9V"
      },
      "execution_count": 4,
      "outputs": []
    },
    {
      "cell_type": "code",
      "source": [
        "modelA = Net()\n",
        "modelB = Net()\n",
        "optimModelA = optim.SGD(modelA.parameters(), lr=0.001, momentum=0.9)\n",
        "optimModelB = optim.SGD(modelB.parameters(), lr=0.001, momentum=0.9)\n",
        "\n",
        "checkpoint = torch.load(PATH)\n",
        "modelA.load_state_dict(checkpoint['modelA_state_dict'])\n",
        "modelB.load_state_dict(checkpoint['modelB_state_dict'])\n",
        "optimizerA.load_state_dict(checkpoint['optimizerA_state_dict'])\n",
        "optimizerB.load_state_dict(checkpoint['optimizerB_state_dict'])\n",
        "\n",
        "modelA.eval()\n",
        "modelB.eval()\n",
        "# - 또는 -\n",
        "modelA.train()\n",
        "modelB.train()"
      ],
      "metadata": {
        "colab": {
          "base_uri": "https://localhost:8080/"
        },
        "id": "N_IKlt6Bd49h",
        "outputId": "165c5d27-9951-4e0a-c5c9-96314cf46543"
      },
      "execution_count": 5,
      "outputs": [
        {
          "output_type": "execute_result",
          "data": {
            "text/plain": [
              "Net(\n",
              "  (conv1): Conv2d(3, 6, kernel_size=(5, 5), stride=(1, 1))\n",
              "  (pool): MaxPool2d(kernel_size=2, stride=2, padding=0, dilation=1, ceil_mode=False)\n",
              "  (conv2): Conv2d(6, 16, kernel_size=(5, 5), stride=(1, 1))\n",
              "  (fc1): Linear(in_features=400, out_features=120, bias=True)\n",
              "  (fc2): Linear(in_features=120, out_features=84, bias=True)\n",
              "  (fc3): Linear(in_features=84, out_features=10, bias=True)\n",
              ")"
            ]
          },
          "metadata": {},
          "execution_count": 5
        }
      ]
    },
    {
      "cell_type": "markdown",
      "source": [
        "추론(inference)을 실행하기 전에 model.eval() 을 호출하여 드롭아웃(dropout)과 배치 정규화 층(batch normalization layer)을 평가(evaluation) 모드로 바꿔야한다는 것을 기억하세요. \n",
        "이것을 빼먹으면 일관성 없는 추론 결과를 얻게 됩니다.\n",
        "\n",
        "만약 학습을 계속하길 원한다면 model.train() 을 호출하여 이 층(layer)들이 학습 모드인지 확인(ensure)하세요.\n",
        "\n",
        "축하합니다! 지금까지 PyTorch에서 여러 모델들을 저장하고 불러왔습니다.\n"
      ],
      "metadata": {
        "id": "ahuwt_bKeGR8"
      }
    }
  ]
}