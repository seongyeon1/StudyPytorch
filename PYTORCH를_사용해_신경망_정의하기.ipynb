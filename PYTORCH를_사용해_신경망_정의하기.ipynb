{
  "nbformat": 4,
  "nbformat_minor": 0,
  "metadata": {
    "colab": {
      "provenance": [],
      "collapsed_sections": [],
      "authorship_tag": "ABX9TyM+tArxH5D6YX0BulMk+PZ/",
      "include_colab_link": true
    },
    "kernelspec": {
      "name": "python3",
      "display_name": "Python 3"
    },
    "language_info": {
      "name": "python"
    }
  },
  "cells": [
    {
      "cell_type": "markdown",
      "metadata": {
        "id": "view-in-github",
        "colab_type": "text"
      },
      "source": [
        "<a href=\"https://colab.research.google.com/github/seongyeon1/StudyPytorch/blob/main/PYTORCH%EB%A5%BC_%EC%82%AC%EC%9A%A9%ED%95%B4_%EC%8B%A0%EA%B2%BD%EB%A7%9D_%EC%A0%95%EC%9D%98%ED%95%98%EA%B8%B0.ipynb\" target=\"_parent\"><img src=\"https://colab.research.google.com/assets/colab-badge.svg\" alt=\"Open In Colab\"/></a>"
      ]
    },
    {
      "cell_type": "code",
      "execution_count": null,
      "metadata": {
        "id": "nRywElx6OcfA"
      },
      "outputs": [],
      "source": []
    },
    {
      "cell_type": "markdown",
      "source": [
        "## 단계\n",
        "1. 데이터를 가져오기 위해 필요한 라이브러리들 불러오기\n",
        "\n",
        "2. 신경망을 정의하고 초기화하기\n",
        "\n",
        "3. 데이터가 모델을 어떻게 지나갈 지 구체화하기\n",
        "\n",
        "4. [선택사항] 데이터를 모델에 적용해 테스트하기\n",
        "\n"
      ],
      "metadata": {
        "id": "aVVPc_B-OoS3"
      }
    },
    {
      "cell_type": "code",
      "source": [
        "import torch\n",
        "import torch.nn as nn\n",
        "import torch.nn.functional as F"
      ],
      "metadata": {
        "id": "EjcoAkSDOz2w"
      },
      "execution_count": 1,
      "outputs": []
    },
    {
      "cell_type": "code",
      "source": [
        "class Net(nn.Module):\n",
        "    def __init__(self):\n",
        "      super(Net, self).__init__()\n",
        "\n",
        "      # 첫번째 2D 합성곱 계층\n",
        "      # 1개의 입력 채널(이미지)을 받아들이고, 사각 커널 사이즈가 3인 32개의 합성곱 특징들을 출력합니다.\n",
        "      self.conv1 = nn.Conv2d(1, 32, 3, 1)\n",
        "      # 두번째 2D 합성곱 계층\n",
        "      # 32개의 입력 계층을 받아들이고, 사각 커널 사이즈가 3인 64개의 합성곱 특징을 출력합니다.\n",
        "      self.conv2 = nn.Conv2d(32, 64, 3, 1)\n",
        "\n",
        "      # 인접한 픽셀들은 입력 확률에 따라 모두 0 값을 가지거나 혹은 모두 유효한 값이 되도록 만듭니다.\n",
        "      self.dropout1 = nn.Dropout2d(0.25)\n",
        "      self.dropout2 = nn.Dropout2d(0.5)\n",
        "\n",
        "      # 첫번째 fully connected layer\n",
        "      self.fc1 = nn.Linear(9216, 128)\n",
        "      # 10개의 라벨을 출력하는 두번째 fully connected layer\n",
        "      self.fc2 = nn.Linear(128, 10)\n",
        "\n",
        "my_nn = Net()\n",
        "print(my_nn)"
      ],
      "metadata": {
        "colab": {
          "base_uri": "https://localhost:8080/"
        },
        "id": "sWEINXeVO4OK",
        "outputId": "b25d411e-2981-4bd8-c44e-f186ebaee53c"
      },
      "execution_count": 2,
      "outputs": [
        {
          "output_type": "stream",
          "name": "stdout",
          "text": [
            "Net(\n",
            "  (conv1): Conv2d(1, 32, kernel_size=(3, 3), stride=(1, 1))\n",
            "  (conv2): Conv2d(32, 64, kernel_size=(3, 3), stride=(1, 1))\n",
            "  (dropout1): Dropout2d(p=0.25, inplace=False)\n",
            "  (dropout2): Dropout2d(p=0.5, inplace=False)\n",
            "  (fc1): Linear(in_features=9216, out_features=128, bias=True)\n",
            "  (fc2): Linear(in_features=128, out_features=10, bias=True)\n",
            ")\n"
          ]
        }
      ]
    },
    {
      "cell_type": "code",
      "source": [
        "class Net(nn.Module):\n",
        "    def __init__(self):\n",
        "      super(Net, self).__init__()\n",
        "      self.conv1 = nn.Conv2d(1, 32, 3, 1)\n",
        "      self.conv2 = nn.Conv2d(32, 64, 3, 1)\n",
        "      self.dropout1 = nn.Dropout2d(0.25)\n",
        "      self.dropout2 = nn.Dropout2d(0.5)\n",
        "      self.fc1 = nn.Linear(9216, 128)\n",
        "      self.fc2 = nn.Linear(128, 10)\n",
        "\n",
        "    # x는 데이터를 나타냅니다.\n",
        "    def forward(self, x):\n",
        "      # 데이터가 conv1을 지나갑니다.\n",
        "      x = self.conv1(x)\n",
        "      # x를 ReLU 활성함수(rectified-linear activation function)에 대입합니다.\n",
        "      x = F.relu(x)\n",
        "\n",
        "      x = self.conv2(x)\n",
        "      x = F.relu(x)\n",
        "\n",
        "      # x에 대해서 max pooling을 실행합니다.\n",
        "      x = F.max_pool2d(x, 2)\n",
        "      # 데이터가 dropout1을 지나갑니다.\n",
        "      x = self.dropout1(x)\n",
        "      # start_dim=1으로 x를 압축합니다.\n",
        "      x = torch.flatten(x, 1)\n",
        "      # 데이터가 fc1을 지나갑니다.\n",
        "      x = self.fc1(x)\n",
        "      x = F.relu(x)\n",
        "      x = self.dropout2(x)\n",
        "      x = self.fc2(x)\n",
        "\n",
        "      # x에 softmax를 적용합니다.\n",
        "      output = F.log_softmax(x, dim=1)\n",
        "      return output"
      ],
      "metadata": {
        "id": "fo9yNfTfO4KV"
      },
      "execution_count": 3,
      "outputs": []
    },
    {
      "cell_type": "code",
      "source": [
        "# 임의의 28x28 이미지로 맞춰줍니다.\n",
        "random_data = torch.rand((1, 1, 28, 28))\n",
        "\n",
        "my_nn = Net()\n",
        "result = my_nn(random_data)\n",
        "print(result)"
      ],
      "metadata": {
        "colab": {
          "base_uri": "https://localhost:8080/"
        },
        "id": "40kwW-BMO4HT",
        "outputId": "c9abcb03-5e56-4834-879e-349f5d53ae05"
      },
      "execution_count": 5,
      "outputs": [
        {
          "output_type": "stream",
          "name": "stdout",
          "text": [
            "tensor([[-2.3776, -2.2031, -2.4011, -2.2366, -2.3257, -2.3604, -2.3196, -2.2174,\n",
            "         -2.3888, -2.2230]], grad_fn=<LogSoftmaxBackward0>)\n"
          ]
        }
      ]
    }
  ]
}